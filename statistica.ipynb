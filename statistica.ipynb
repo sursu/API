{
 "cells": [
  {
   "cell_type": "code",
   "execution_count": 1,
   "id": "b2afc341-39ae-4607-98b2-35549c021a7b",
   "metadata": {},
   "outputs": [],
   "source": [
    "import requests"
   ]
  },
  {
   "cell_type": "code",
   "execution_count": 2,
   "id": "d6bccffc-6364-4d8e-bec5-de00224d297b",
   "metadata": {},
   "outputs": [],
   "source": [
    "# Elementele de cheltuieli ale produsului intern brut\n",
    "# https://statbank.statistica.md/PxWeb/pxweb/ro/40%20Statistica%20economica/40%20Statistica%20economica__13%20CNT__CNT210__Utilizari/CNT211200.px/table/tableViewLayout2/\n",
    "url = 'https://statbank.statistica.md:443/PxWeb/api/v1/ro/40 Statistica economica/13 CNT/CNT210/Utilizari/CNT211200.px'"
   ]
  },
  {
   "cell_type": "code",
   "execution_count": 3,
   "id": "8fa807b6-983a-4b88-a32e-d29307f34f8d",
   "metadata": {},
   "outputs": [],
   "source": [
    "data = requests.get(url)"
   ]
  },
  {
   "cell_type": "code",
   "execution_count": 4,
   "id": "bed91d1f-d881-473d-83eb-45bc8a34335a",
   "metadata": {},
   "outputs": [
    {
     "data": {
      "text/plain": [
       "{'title': 'Elementele de cheltuieli ale produsului intern brut',\n",
       " 'variables': [{'code': 'Indicatori',\n",
       "   'text': 'Indicatori',\n",
       "   'values': ['00',\n",
       "    '01',\n",
       "    '02',\n",
       "    '03',\n",
       "    '04',\n",
       "    '05',\n",
       "    '06',\n",
       "    '07',\n",
       "    '08',\n",
       "    '09',\n",
       "    '10'],\n",
       "   'valueTexts': ['Produsul intern brut',\n",
       "    'Consumul final total',\n",
       "    '  ...al gospodariilor populatiei',\n",
       "    '  ...al administratiei publice',\n",
       "    '  ...al institutiilor fara scop lucrativ in serviciul gospodariilor populatiei',\n",
       "    'Formarea bruta de capital',\n",
       "    '  ... Formarea bruta de capital fix',\n",
       "    '  ... Variatia stocurilor',\n",
       "    'Exportul  net de bunuri si servicii',\n",
       "    '  ... Export de bunuri si servicii',\n",
       "    '  ....Import de bunuri si servicii']},\n",
       "  {'code': 'Ani',\n",
       "   'text': 'Ani',\n",
       "   'values': ['2014',\n",
       "    '2015',\n",
       "    '2016',\n",
       "    '2017',\n",
       "    '2018',\n",
       "    '2019',\n",
       "    '2020',\n",
       "    '2021',\n",
       "    '2022',\n",
       "    '2023'],\n",
       "   'valueTexts': ['2014',\n",
       "    '2015',\n",
       "    '2016',\n",
       "    '2017',\n",
       "    '2018',\n",
       "    '2019',\n",
       "    '2020',\n",
       "    '2021',\n",
       "    '2022',\n",
       "    '2023'],\n",
       "   'time': True},\n",
       "  {'code': 'Preturi',\n",
       "   'text': 'Preturi',\n",
       "   'values': ['1', '2'],\n",
       "   'valueTexts': ['Preturi curente', 'Preturi comparabile']}]}"
      ]
     },
     "execution_count": 4,
     "metadata": {},
     "output_type": "execute_result"
    }
   ],
   "source": [
    "data.json()"
   ]
  }
 ],
 "metadata": {
  "kernelspec": {
   "display_name": "Python 3 (ipykernel)",
   "language": "python",
   "name": "python3"
  },
  "language_info": {
   "codemirror_mode": {
    "name": "ipython",
    "version": 3
   },
   "file_extension": ".py",
   "mimetype": "text/x-python",
   "name": "python",
   "nbconvert_exporter": "python",
   "pygments_lexer": "ipython3",
   "version": "3.12.9"
  }
 },
 "nbformat": 4,
 "nbformat_minor": 5
}
